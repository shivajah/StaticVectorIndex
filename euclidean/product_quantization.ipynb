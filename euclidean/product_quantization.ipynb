{
 "cells": [
  {
   "cell_type": "code",
   "execution_count": null,
   "id": "713ac146",
   "metadata": {},
   "outputs": [],
   "source": [
    "import numpy as np\n",
    "import faiss\n",
    "import matplotlib.pyplot as plt"
   ]
  },
  {
   "cell_type": "code",
   "execution_count": null,
   "id": "2f1a4b50",
   "metadata": {},
   "outputs": [],
   "source": [
    "# Parameters for PQ\n",
    "pq_m = 8      # Number of PQ sub-vectors (should divide d)\n",
    "pq_nbits = 8  # Bits per sub-vector\n",
    "\n",
    "# --- Build PQ codebooks and encode inner clusters ---\n",
    "def build_pq_for_inner_clusters(xb, xb_inner_assignments, inner_centroids):\n",
    "    pq_codebooks = {}\n",
    "    pq_codes = {}\n",
    "    for inner_id in range(inner_centroids.shape[0]):\n",
    "        # Get all vectors assigned to this inner cluster\n",
    "        idxs = np.where(xb_inner_assignments[:,0] == inner_id)[0]\n",
    "        if len(idxs) == 0:\n",
    "            continue\n",
    "        # Compute residuals\n",
    "        residuals = xb[idxs] - inner_centroids[inner_id]\n",
    "        # Train PQ on residuals\n",
    "        pq = faiss.ProductQuantizer(residuals.shape[1], pq_m, pq_nbits)\n",
    "        pq.train(residuals)\n",
    "        # Encode residuals\n",
    "        codes = np.empty((len(residuals), pq.code_size), dtype='uint8')\n",
    "        pq.compute_codes(residuals, codes)\n",
    "        pq_codebooks[inner_id] = pq\n",
    "        pq_codes[inner_id] = (idxs, codes)\n",
    "    return pq_codebooks, pq_codes"
   ]
  },
  {
   "cell_type": "code",
   "execution_count": null,
   "id": "43188b50",
   "metadata": {},
   "outputs": [],
   "source": [
    "# --- Search using PQ codes in inner clusters ---\n",
    "def search_query_pq_inner(x, inner_kmeans, inner_centroids, pq_codebooks, pq_codes, xb, k):\n",
    "    # Find closest inner cluster\n",
    "    _, inner_assign = inner_kmeans.index.search(x.reshape(1, -1), 1)\n",
    "    inner_id = int(inner_assign[0,0])\n",
    "    if inner_id not in pq_codebooks:\n",
    "        # fallback to brute-force\n",
    "        dists = np.linalg.norm(xb - x.reshape(1, -1), axis=1)\n",
    "        idx = np.argsort(dists)[:k]\n",
    "        return idx, dists[idx]\n",
    "    # Compute residual for query\n",
    "    residual = x - inner_centroids[inner_id]\n",
    "    pq = pq_codebooks[inner_id]\n",
    "    idxs, codes = pq_codes[inner_id]\n",
    "    # Compute distances from query residual to all PQ codes in this cluster\n",
    "    dis = pq.compute_distance_table(residual.reshape(1, -1)).reshape(-1, pq.ksub * pq.M)\n",
    "    # Use FAISS's search with PQ codes\n",
    "    # For each code, sum the lookup table entries\n",
    "    lookup = pq.compute_distance_table(residual.reshape(1, -1)).reshape(pq.M, pq.ksub)\n",
    "    dists = np.zeros(len(codes), dtype='float32')\n",
    "    for i, code in enumerate(codes):\n",
    "        dists[i] = sum(lookup[m, code[m]] for m in range(pq.M))\n",
    "    topk = np.argsort(dists)[:k]\n",
    "    return idxs[topk], dists[topk]"
   ]
  },
  {
   "cell_type": "code",
   "execution_count": null,
   "id": "6fdc5b43",
   "metadata": {},
   "outputs": [],
   "source": [
    "# --- Product Quantization Example ---\n",
    "# Assign each vector to its closest inner cluster\n",
    "_, xb_inner_assignments = inner_kmeans.index.search(xb, 1)\n",
    "\n",
    "# Build PQ codebooks and codes for each inner cluster\n",
    "pq_codebooks, pq_codes = build_pq_for_inner_clusters(xb, xb_inner_assignments, inner_centroids)\n",
    "\n",
    "# Search all queries using PQ in inner clusters\n",
    "I = []\n",
    "D = []\n",
    "for x in xq:\n",
    "    idxs, dists = search_query_pq_inner(x, inner_kmeans, inner_centroids, pq_codebooks, pq_codes, xb, k)\n",
    "    I.append(idxs)\n",
    "    D.append(dists)\n",
    "I = np.array(I)\n",
    "D = np.array(D)\n",
    "recall = (I == gt[:, :k]).sum() / (gt.shape[0] * k)\n",
    "print(f\"Recall@{k} using PQ in inner clusters: {recall:.4f}\")"
   ]
  }
 ],
 "metadata": {
  "language_info": {
   "name": "python"
  }
 },
 "nbformat": 4,
 "nbformat_minor": 5
}
